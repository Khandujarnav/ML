{
 "cells": [
  {
   "cell_type": "code",
   "execution_count": 1,
   "metadata": {},
   "outputs": [
    {
     "name": "stderr",
     "output_type": "stream",
     "text": [
      "Exception ignored in: <bound method IPythonKernel._clean_thread_parent_frames of <ipykernel.ipkernel.IPythonKernel object at 0x105a35820>>\n",
      "Traceback (most recent call last):\n",
      "  File \"/Users/arnavkhanduja/Library/Python/3.12/lib/python/site-packages/ipykernel/ipkernel.py\", line 775, in _clean_thread_parent_frames\n",
      "    def _clean_thread_parent_frames(\n",
      "\n",
      "KeyboardInterrupt: \n"
     ]
    }
   ],
   "source": [
    "import numpy as np\n",
    "import pandas as pd\n",
    "import torch\n",
    "import torch.nn as nn\n",
    "import torch.optim as optim\n",
    "from sklearn.ensemble import RandomForestRegressor\n",
    "from xgboost import XGBRegressor\n",
    "from sklearn.model_selection import train_test_split\n",
    "from sklearn.metrics import r2_score, mean_squared_error\n",
    "import matplotlib.pyplot as plt"
   ]
  },
  {
   "cell_type": "code",
   "execution_count": 3,
   "metadata": {},
   "outputs": [],
   "source": [
    "X = pd.read_csv('input_4200.csv').values  # file with 80 columns of 0s and 1s\n",
    "y = pd.read_csv('mapped_snr_4200.csv').values       # file with 80 columns of SNR values\n",
    "\n",
    "# Split the data\n",
    "X_train, X_test, y_train, y_test = train_test_split(X, y, test_size=0.2, random_state=42)\n",
    "X_train, X_val, y_train, y_val = train_test_split(X_train, y_train, test_size=0.2, random_state=42)\n",
    "\n",
    "# Convert to torch tensors\n",
    "X_train_tensor = torch.tensor(X_train, dtype=torch.float32)\n",
    "y_train_tensor = torch.tensor(y_train, dtype=torch.float32)\n",
    "X_val_tensor = torch.tensor(X_val, dtype=torch.float32)\n",
    "y_val_tensor = torch.tensor(y_val, dtype=torch.float32)\n",
    "X_test_tensor = torch.tensor(X_test, dtype=torch.float32)\n",
    "y_test_tensor = torch.tensor(y_test, dtype=torch.float32)"
   ]
  },
  {
   "cell_type": "code",
   "execution_count": 4,
   "metadata": {},
   "outputs": [
    {
     "name": "stdout",
     "output_type": "stream",
     "text": [
      "XGBoost Val R2 Score: 0.9999993064160474\n",
      "XGBoost Test R2 Score: 0.9999992776084149\n",
      "XGBoost Test MSE: 8.066618623530787e-05\n"
     ]
    }
   ],
   "source": [
    "xgb_model = XGBRegressor(n_estimators=200, random_state=42)\n",
    "xgb_model.fit(X_train, y_train)\n",
    "xgb_val_preds = xgb_model.predict(X_val) * X_val\n",
    "xgb_test_preds = xgb_model.predict(X_test) * X_test\n",
    "\n",
    "xgb_val_score = r2_score(y_val, xgb_val_preds)\n",
    "xgb_test_score = r2_score(y_test, xgb_test_preds)\n",
    "xgb_mse = mean_squared_error(y_test, xgb_test_preds)\n",
    "\n",
    "print(f'XGBoost Val R2 Score: {xgb_val_score}')\n",
    "print(f'XGBoost Test R2 Score: {xgb_test_score}')\n",
    "print(f'XGBoost Test MSE: {xgb_mse}')"
   ]
  },
  {
   "cell_type": "code",
   "execution_count": 5,
   "metadata": {},
   "outputs": [],
   "source": [
    "def predict_and_save(model, X_test, output_file):\n",
    "    model.eval()\n",
    "    with torch.no_grad():\n",
    "        outputs = model(X_test)\n",
    "        outputs = outputs * X_test  # Apply mask\n",
    "    outputs = outputs.numpy()\n",
    "    np.savetxt(output_file, outputs, delimiter=',')\n",
    "'''custom_input = np.array([1, 0, 1, 0, 0, 1, 0, 0, 0, 1, 0, 0, 1, 1, 0, 0, 1, 0, 0, 1, 0, 0, 0, 0, 0, 0, 0, 0, 0, 0, \n",
    "                         0, 0, 0, 0, 0, 0, 0, 0, 0, 0, 0, 0, 0, 0, 0, 0, 0, 0, 0, 0, 0, 0, 0, 0, 0, 0, 0, 0, 0, 0, \n",
    "                         0, 0, 0, 0, 0, 0, 0, 0, 0, 0, 0, 0, 0, 0, 0, 0, 0, 0, 0, 0])'''\n",
    "custom_input = np.array([1 if i%3==0 else 0 for i in range(80)])\n",
    "#custom_input\n",
    "X_test_custom = pd.read_csv('input_test_5700-6000.csv').values\n",
    "input_file = 'input_test_5700-6000.csv'  # Path to the file with 300 records and 80 columns\n",
    "output_file = 'predicted_snr_output.csv'\n"
   ]
  },
  {
   "cell_type": "code",
   "execution_count": 6,
   "metadata": {},
   "outputs": [
    {
     "ename": "NameError",
     "evalue": "name 'rf_val_score' is not defined",
     "output_type": "error",
     "traceback": [
      "\u001b[0;31m---------------------------------------------------------------------------\u001b[0m",
      "\u001b[0;31mNameError\u001b[0m                                 Traceback (most recent call last)",
      "Cell \u001b[0;32mIn[6], line 2\u001b[0m\n\u001b[1;32m      1\u001b[0m models \u001b[38;5;241m=\u001b[39m [\u001b[38;5;124m'\u001b[39m\u001b[38;5;124mRandom Forest\u001b[39m\u001b[38;5;124m'\u001b[39m, \u001b[38;5;124m'\u001b[39m\u001b[38;5;124mXGBoost\u001b[39m\u001b[38;5;124m'\u001b[39m]\n\u001b[0;32m----> 2\u001b[0m val_scores \u001b[38;5;241m=\u001b[39m [ \u001b[43mrf_val_score\u001b[49m, xgb_val_score]\n\u001b[1;32m      3\u001b[0m test_scores \u001b[38;5;241m=\u001b[39m [ rf_test_score, xgb_test_score]\n\u001b[1;32m      5\u001b[0m plt\u001b[38;5;241m.\u001b[39mfigure(figsize\u001b[38;5;241m=\u001b[39m(\u001b[38;5;241m10\u001b[39m, \u001b[38;5;241m5\u001b[39m))\n",
      "\u001b[0;31mNameError\u001b[0m: name 'rf_val_score' is not defined"
     ]
    }
   ],
   "source": [
    "models = ['Random Forest', 'XGBoost']\n",
    "val_scores = [ rf_val_score, xgb_val_score]\n",
    "test_scores = [ rf_test_score, xgb_test_score]\n",
    "\n",
    "plt.figure(figsize=(10, 5))\n",
    "plt.scatter(models, val_scores, label='Validation Scores')\n",
    "plt.scatter(models, test_scores, label='Test Scores')\n",
    "#plt.yscale('log')\n",
    "plt.xlabel('Model')\n",
    "plt.ylabel('R2 Score')\n",
    "plt.title('Model Performance Comparison')\n",
    "plt.legend()\n",
    "plt.show()"
   ]
  },
  {
   "cell_type": "code",
   "execution_count": 14,
   "metadata": {},
   "outputs": [
    {
     "name": "stdout",
     "output_type": "stream",
     "text": [
      "XGBoost Test R2 Score: 0.9999994217605389\n",
      "XGBoost Test MSE: 6.44594240376549e-05\n",
      "Test data shape: (300, 80)\n",
      "First few rows of test_outputs:\n",
      "Predicted outputs saved to predicted_outputs.csv file.\n"
     ]
    }
   ],
   "source": [
    "import numpy as np\n",
    "import pandas as pd\n",
    "from xgboost import XGBRegressor\n",
    "from sklearn.model_selection import train_test_split\n",
    "from sklearn.metrics import r2_score, mean_squared_error\n",
    "\n",
    "# Load data\n",
    "X = pd.read_csv('input_4200.csv').values  # file with 80 columns of 0s and 1s\n",
    "y = pd.read_csv('mapped_snr_4200.csv').values       # file with 80 columns of SNR values\n",
    "\n",
    "# Mask the output data\n",
    "y_masked = y * X  # Applying mask: where X is 0, y will be set to 0\n",
    "\n",
    "# Split the data into training and test sets\n",
    "X_train, X_test, y_train, y_test = train_test_split(X, y_masked, test_size=0.2, random_state=42)\n",
    "\n",
    "# Initialize and train XGBoost model\n",
    "xgb_model = XGBRegressor(n_estimators=200, random_state=42)\n",
    "xgb_model.fit(X_train, y_train)\n",
    "\n",
    "xgb_test_preds = xgb_model.predict(X_test) * X_test  # Apply mask to the predictions\n",
    "xgb_test_score = r2_score(y_test, xgb_test_preds)\n",
    "xgb_mse = mean_squared_error(y_test, xgb_test_preds)\n",
    "print(f'XGBoost Test R2 Score: {xgb_test_score}')\n",
    "print(f'XGBoost Test MSE: {xgb_mse}')\n",
    "# Predict using trained XGBoost model\n",
    "test_features = pd.read_csv('input_test_5700-6000.csv', header=None).values\n",
    "print(f\"Test data shape: {test_features.shape}\")  # Load test data\n",
    "test_outputs = xgb_model.predict(test_features)\n",
    "test_outputs = test_outputs * test_features  # Apply mask where input is 0, output should be 0\n",
    "print(\"First few rows of test_outputs:\")\n",
    "#print(test_outputs[:5])\n",
    "# Save predicted outputs to a file\n",
    "np.savetxt('predicted_outputs.csv', test_outputs, delimiter=',', fmt='%f')\n",
    "\n",
    "print(\"Predicted outputs saved to predicted_outputs.csv file.\")\n"
   ]
  },
  {
   "cell_type": "code",
   "execution_count": 2,
   "metadata": {},
   "outputs": [
    {
     "data": {
      "text/plain": [
       "'XGBoost Test R2 Score: 0.9999994165693391\\nXGBoost Test MSE: 6.50513412664856e-05'"
      ]
     },
     "execution_count": 2,
     "metadata": {},
     "output_type": "execute_result"
    }
   ],
   "source": [
    "'''XGBoost Test R2 Score: 0.9999994165693391\n",
    "XGBoost Test MSE: 6.50513412664856e-05'''"
   ]
  },
  {
   "cell_type": "code",
   "execution_count": null,
   "metadata": {},
   "outputs": [],
   "source": [
    "#GRID SEARCH\n",
    "from sklearn.model_selection import GridSearchCV\n",
    "param_grid = {\n",
    "    'learning_rate': [0.2, 0.3, 0.4],\n",
    "    'n_estimators': [100, 200, 300],\n",
    "    'max_depth': [4,6,8],\n",
    "    #'min_child_weight': [0, 1, 3, 5],\n",
    "    #'gamma': [0, 0.1, 0.2],\n",
    "    \n",
    "    #'subsample': [0.5, 0.8, 1.0],\n",
    "    #'colsample_bytree': [0.6, 0.8, 1.0],\n",
    "    #'reg_alpha': [0, 0.1, 0.5],\n",
    "    #'reg_lambda': [1, 1.5, 2],\n",
    "    'random_state': [32,42,64]\n",
    "}\n",
    "xgb= XGBRegressor()\n",
    "grid_search = GridSearchCV(estimator=xgb, param_grid=param_grid, cv=5, n_jobs=-1, verbose=2)\n",
    "grid_search.fit(X_train, y_train)\n",
    "print(grid_search.best_params_)\n"
   ]
  },
  {
   "cell_type": "code",
   "execution_count": 15,
   "metadata": {},
   "outputs": [
    {
     "name": "stdout",
     "output_type": "stream",
     "text": [
      "XGBoost Test R2 Score: 0.9999997513998489\n",
      "XGBoost Test MSE: 2.7828871966050466e-05\n",
      "Test data shape: (300, 80)\n",
      "First few rows of test_outputs:\n",
      "Predicted outputs saved to predicted_outputs.csv file.\n"
     ]
    }
   ],
   "source": [
    "\n",
    "# Initialize and train XGBoost model\n",
    "xgb_model = XGBRegressor(n_estimators=300, random_state=32, max_depth=4, learning_rate=0.2)\n",
    "xgb_model.fit(X_train, y_train)\n",
    "\n",
    "xgb_test_preds = xgb_model.predict(X_test) * X_test  # Apply mask to the predictions\n",
    "xgb_test_score = r2_score(y_test, xgb_test_preds)\n",
    "xgb_mse = mean_squared_error(y_test, xgb_test_preds)\n",
    "print(f'XGBoost Test R2 Score: {xgb_test_score}')\n",
    "print(f'XGBoost Test MSE: {xgb_mse}')\n",
    "# Predict using trained XGBoost model\n",
    "test_features = pd.read_csv('input_test_5700-6000.csv', header=None).values\n",
    "print(f\"Test data shape: {test_features.shape}\")  # Load test data\n",
    "test_outputs = xgb_model.predict(test_features)\n",
    "test_outputs = test_outputs * test_features  # Apply mask where input is 0, output should be 0\n",
    "print(\"First few rows of test_outputs:\")\n",
    "#print(test_outputs[:5])\n",
    "# Save predicted outputs to a file\n",
    "np.savetxt('predicted_outputs.csv', test_outputs, delimiter=',', fmt='%f')\n",
    "\n",
    "print(\"Predicted outputs saved to predicted_outputs.csv file.\")\n"
   ]
  }
 ],
 "metadata": {
  "kernelspec": {
   "display_name": "Python 3",
   "language": "python",
   "name": "python3"
  },
  "language_info": {
   "codemirror_mode": {
    "name": "ipython",
    "version": 3
   },
   "file_extension": ".py",
   "mimetype": "text/x-python",
   "name": "python",
   "nbconvert_exporter": "python",
   "pygments_lexer": "ipython3",
   "version": "3.12.2"
  }
 },
 "nbformat": 4,
 "nbformat_minor": 2
}
